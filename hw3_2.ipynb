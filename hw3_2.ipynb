{
  "nbformat": 4,
  "nbformat_minor": 0,
  "metadata": {
    "colab": {
      "provenance": [],
      "authorship_tag": "ABX9TyP7aQyCOe/MDkZXtC1f0Ft4",
      "include_colab_link": true
    },
    "kernelspec": {
      "name": "python3",
      "display_name": "Python 3"
    },
    "language_info": {
      "name": "python"
    }
  },
  "cells": [
    {
      "cell_type": "markdown",
      "metadata": {
        "id": "view-in-github",
        "colab_type": "text"
      },
      "source": [
        "<a href=\"https://colab.research.google.com/github/zyin36/MAT-422/blob/main/hw3_2.ipynb\" target=\"_parent\"><img src=\"https://colab.research.google.com/assets/colab-badge.svg\" alt=\"Open In Colab\"/></a>"
      ]
    },
    {
      "cell_type": "markdown",
      "source": [
        "$B_r(𝐱) = {𝐲∈ℝ: ||𝐲 - 𝐱|| < r}$\n",
        "\n",
        "Composite functions, neural networks, and chain rule?\n",
        "\"Every layer of a neural network is a composite function\"\n",
        "\n",
        "**Definition in terms of limits of sequences**\n",
        "- For all sequences ($x_n$) that converges to some $c$, the corresponding sequence $f(x_n) = f(c)$\n",
        "\n",
        "** Extending a non-continuous function to a continuous function** <br>\n",
        "Example: $f(x)=\\frac{sin(x)}{x}$ <br>\n",
        "$f(x)$ is not defined when $x=0$, but we can define $f(0)$ = $\\lim\\limits_{x \\to 0} \\sin(x) = 1$.\n",
        "\n",
        "\n",
        "\n"
      ],
      "metadata": {
        "id": "NTGvyl_a7GA3"
      }
    },
    {
      "cell_type": "code",
      "execution_count": 4,
      "metadata": {
        "colab": {
          "base_uri": "https://localhost:8080/"
        },
        "id": "vRVrPGQ1Mmfg",
        "outputId": "d2ae0e94-0188-43d6-f33c-4e2d22da58d9"
      },
      "outputs": [
        {
          "output_type": "stream",
          "name": "stdout",
          "text": [
            "1\n"
          ]
        }
      ],
      "source": [
        "from sympy import *\n",
        "\n",
        "x = symbols('x')\n",
        "\n",
        "# function expressions\n",
        "f = sin(x)\n",
        "g = x\n",
        "\n",
        "# returns f(x)/g(x)\n",
        "def frac(func_f, func_g, x_val):\n",
        "  nom = func_f.subs(x, x_val)\n",
        "  denom = func_g.subs(x, x_val)\n",
        "  if denom == 0:\n",
        "    # evaluate lim x-> x_val f(x) / g(x)\n",
        "    return limit(func_f/func_g, x, x_val)\n",
        "  else:\n",
        "    return nom/denom\n",
        "\n",
        "\n",
        "print(frac(f, g, 0))\n"
      ]
    },
    {
      "cell_type": "markdown",
      "source": [
        "We could use the sympy library to do series expansions, too."
      ],
      "metadata": {
        "id": "AWlLPJPawibY"
      }
    },
    {
      "cell_type": "code",
      "source": [
        "print(series(cos(x),x))\n",
        "print(series(sin(x),x))"
      ],
      "metadata": {
        "colab": {
          "base_uri": "https://localhost:8080/"
        },
        "id": "AGVXlECjxmV2",
        "outputId": "4727faa2-bbf2-4bd7-a634-b43c068e2579"
      },
      "execution_count": 5,
      "outputs": [
        {
          "output_type": "stream",
          "name": "stdout",
          "text": [
            "1 - x**2/2 + x**4/24 + O(x**6)\n",
            "x - x**3/6 + x**5/120 + O(x**6)\n"
          ]
        }
      ]
    }
  ]
}