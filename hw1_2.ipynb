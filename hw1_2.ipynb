{
  "nbformat": 4,
  "nbformat_minor": 0,
  "metadata": {
    "colab": {
      "provenance": [],
      "authorship_tag": "ABX9TyNmLcI4G45X3pwqLDA4yi42",
      "include_colab_link": true
    },
    "kernelspec": {
      "name": "python3",
      "display_name": "Python 3"
    },
    "language_info": {
      "name": "python"
    }
  },
  "cells": [
    {
      "cell_type": "markdown",
      "metadata": {
        "id": "view-in-github",
        "colab_type": "text"
      },
      "source": [
        "<a href=\"https://colab.research.google.com/github/zyin36/MAT-422/blob/main/hw1_2.ipynb\" target=\"_parent\"><img src=\"https://colab.research.google.com/assets/colab-badge.svg\" alt=\"Open In Colab\"/></a>"
      ]
    },
    {
      "cell_type": "markdown",
      "source": [
        "## Carter Yin (zyin36)\n",
        "\n",
        "## HW 1.2 - Linear Algebra Concepts"
      ],
      "metadata": {
        "id": "xYE-dMwvn3Xw"
      }
    },
    {
      "cell_type": "markdown",
      "source": [
        "### 1.2.1 Linear Space (aka. Vector Space)\n",
        "\n",
        "<i>Note: Linear space and vector space are the same thing.</i>\n",
        "- **Linear Subspace** <br/>\n",
        "A linear subspace a subset of vectors that is closed under vector addition and scalar multiplication.\n",
        "\n",
        "\n",
        "- **How can we determine whether a vector is in a span with numpy?** <br/>\n",
        "\n",
        "Given a vector $\\mathbf{u}$ and a $\\text{span}  (\\mathbf{w}_1, \\dots, \\mathbf{w}_m)$,\n",
        "if there is a solution for $x_1\\mathbf{w}_1 + \\dots + x_m\\mathbf{w}_m = \\mathbf{u}$,\n",
        "then $\\mathbf{u}$ is in the span, because it can be expressed as a linear combination of the vectors in the span.\n",
        "\n",
        "The column vectors of the 3x3 identity matrix spans $\\mathbb{R}_3$.\n",
        "\n"
      ],
      "metadata": {
        "id": "5y35QH4foiyg"
      }
    },
    {
      "cell_type": "code",
      "source": [
        "import numpy as np\n",
        "\n",
        "a = np.eye(3)  # 3x3 identity matrix\n",
        "b = np.array([1, 2, 3])\n",
        "\n",
        "# linalg.solve only works if 'a' is a square and nonsingular matrix\n",
        "print(np.linalg.solve(a, b))\n"
      ],
      "metadata": {
        "id": "RrITyKG6on46",
        "colab": {
          "base_uri": "https://localhost:8080/"
        },
        "outputId": "994ff4aa-931d-4524-9f82-a4607f6e5808"
      },
      "execution_count": 1,
      "outputs": [
        {
          "output_type": "execute_result",
          "data": {
            "text/plain": [
              "array([1., 2., 3.])"
            ]
          },
          "metadata": {},
          "execution_count": 1
        }
      ]
    },
    {
      "cell_type": "markdown",
      "source": [
        "**How to solve if the matrix (a) isn't a square matrix?**"
      ],
      "metadata": {
        "id": "LYIFrhmRQS4p"
      }
    },
    {
      "cell_type": "code",
      "source": [
        "# We can use least square approximation.\n",
        "# If the residual is zero, then it's an exact solution\n",
        "a = np.array([[1, 0, 0],\n",
        "              [0, 1, 0],\n",
        "              [0, 0, 1],\n",
        "              [1, 0, 0]])\n",
        "\n",
        "b = np.array([3, 1, 2, 3])\n",
        "\n",
        "x, residuals, rank, s = np.linalg.lstsq(a, b, rcond=None)\n",
        "\n",
        "print(\"Solution (x): \", x)\n",
        "print(\"Residuals:\", residuals)\n",
        "print(\"Rank of the matrix:\", rank)\n",
        "print(\"Singular values:\", s)\n"
      ],
      "metadata": {
        "colab": {
          "base_uri": "https://localhost:8080/"
        },
        "id": "55AdXBVlRmfn",
        "outputId": "0181f1c3-a9e8-4f42-cd63-4de8590fb135"
      },
      "execution_count": 5,
      "outputs": [
        {
          "output_type": "stream",
          "name": "stdout",
          "text": [
            "Solution (x):  [3. 1. 2.]\n",
            "Residuals: [0.]\n",
            "Rank of the matrix: 3\n",
            "Singular values: [1.41421356 1.         1.        ]\n"
          ]
        }
      ]
    },
    {
      "cell_type": "markdown",
      "source": [
        "### 1.2.2 Orthogonality\n",
        "- Orthonormal Bases <br/>\n",
        "<i> <b>Acknowledgment:</b> <br/>\n",
        "Michael Albanese (https://math.stackexchange.com/users/39599/michael-albanese), Why is orthogonal basis important?, URL (version: 2014-06-12): https://math.stackexchange.com/q/518613</i>\n",
        "\n",
        "- Best Approximation\n",
        "\n"
      ],
      "metadata": {
        "id": "KW0im758opMa"
      }
    },
    {
      "cell_type": "code",
      "source": [
        "def is_orthonormal_basis(basis): # the basis is defined by a matrix\n",
        "  # check if all the vectors in this basis is an unit vector\n",
        "  for u in basis:\n",
        "    if np.linalg.norm(u) != 1.0:\n",
        "      return False\n",
        "\n",
        "  # check if two vectors are orthogonal for every pair of vectors in this basis\n",
        "  length = len(basis)\n",
        "  for i in range(0, length-1):\n",
        "    u = basis[i]\n",
        "    for j in range (i+1, length):\n",
        "      v = basis[j]\n",
        "      if (np.dot(u, v) != 0):\n",
        "        return False\n",
        "\n",
        "  return True\n",
        "\n",
        "a = np.eye(3)\n",
        "print(is_orthonormal_basis(a))"
      ],
      "metadata": {
        "id": "k_KFf-BVor_9",
        "colab": {
          "base_uri": "https://localhost:8080/"
        },
        "outputId": "e28f079d-ecdd-4864-8ffe-336471e94b57"
      },
      "execution_count": 8,
      "outputs": [
        {
          "output_type": "stream",
          "name": "stdout",
          "text": [
            "True\n"
          ]
        }
      ]
    },
    {
      "cell_type": "markdown",
      "source": [
        "### 1.2.3 Gram-Schmidt Process"
      ],
      "metadata": {
        "id": "PgwMUJbcosK-"
      }
    },
    {
      "cell_type": "code",
      "source": [
        "'''\n",
        "Given a linearly independent basis a,\n",
        "find an orthonormal basis of span(a).\n",
        "'''\n",
        "a = np.array([[5, 0, 0],\n",
        "              [0, 8, 0],\n",
        "              [3, 0, 3]])  # the column vectors of a is linearly independent,\n",
        "                        # but not orthonormal.\n",
        "\n",
        "a = np.transpose(a) # using column vectors\n",
        "\n",
        "q = np.empty([3,3]) # orthonormal basis\n",
        "\n",
        "q[0] = a[0] / np.linalg.norm(a[0]) # normalize a[0]\n",
        "proj1 = np.dot(q[0], a[1]) * q[0] # proj. of a[1] onto q[0]\n",
        "\n",
        "q[1] = (a[1] - proj1) / np.linalg.norm(a[1] - proj1)\n",
        "\n",
        "proj2 = np.dot(q[0], a[2]) + np.dot(q[1], a[2])\n",
        "\n",
        "q[2] = (a[2] - proj2) / np.linalg.norm(a[2] - proj2)\n",
        "\n",
        "print(q)\n",
        "print(np.linalg.norm(q[0]))\n",
        "print(np.linalg.norm(q[1]))\n",
        "print(np.linalg.norm(q[2]))\n"
      ],
      "metadata": {
        "id": "-wPl3OFjout-",
        "colab": {
          "base_uri": "https://localhost:8080/"
        },
        "outputId": "a0c24f0a-67ac-499e-9dc6-0318d0532891"
      },
      "execution_count": 13,
      "outputs": [
        {
          "output_type": "stream",
          "name": "stdout",
          "text": [
            "[[ 0.85749293  0.          0.51449576]\n",
            " [ 0.          1.          0.        ]\n",
            " [-0.5881868  -0.5881868   0.55504285]]\n",
            "0.9999999999999999\n",
            "1.0\n",
            "1.0\n"
          ]
        }
      ]
    },
    {
      "cell_type": "markdown",
      "source": [
        "\n",
        "### 1.2.4 Eigenvalues and Eigenvectors"
      ],
      "metadata": {
        "id": "LHtd1aNcqJVt"
      }
    },
    {
      "cell_type": "markdown",
      "source": [],
      "metadata": {
        "id": "llMNcGQTgQrV"
      }
    },
    {
      "cell_type": "code",
      "source": [],
      "metadata": {
        "id": "9itAWH5QqPJG"
      },
      "execution_count": null,
      "outputs": []
    }
  ]
}