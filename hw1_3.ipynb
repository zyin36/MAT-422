{
  "nbformat": 4,
  "nbformat_minor": 0,
  "metadata": {
    "colab": {
      "provenance": [],
      "authorship_tag": "ABX9TyP+Acw5QoC9tQd5E2TUSF5l",
      "include_colab_link": true
    },
    "kernelspec": {
      "name": "python3",
      "display_name": "Python 3"
    },
    "language_info": {
      "name": "python"
    }
  },
  "cells": [
    {
      "cell_type": "markdown",
      "metadata": {
        "id": "view-in-github",
        "colab_type": "text"
      },
      "source": [
        "<a href=\"https://colab.research.google.com/github/zyin36/MAT-422/blob/main/hw1_3.ipynb\" target=\"_parent\"><img src=\"https://colab.research.google.com/assets/colab-badge.svg\" alt=\"Open In Colab\"/></a>"
      ]
    },
    {
      "cell_type": "markdown",
      "source": [
        "### 1.3.1 QR Decomposition\n",
        "*An orthogonal set of unit vectors is called an orthonormal set.* <br/>\n",
        "*We only consider matrices of real numbers in this assignment.* <br/> <br/>\n",
        "For any square matrix of real numbers $\\mathbf{A}$,\n",
        "we could decompose it as\n",
        "$\\mathbf{A = QR}$ , where:<br>\n",
        "- $\\mathbf{Q}$ is the result of applying the Gram-Schmidt process on 𝐀\n",
        "- $\\mathbf{R}$ is a combination of the vectors of 𝐐 and the vectors of 𝐀, which is also an upper triangular matrix.\n",
        "\n",
        "\n",
        "\n",
        "\n",
        "\n"
      ],
      "metadata": {
        "id": "7sr-OP6A3wws"
      }
    },
    {
      "cell_type": "code",
      "source": [
        "import numpy as np\n",
        "\n",
        "# generated from http://www.bluetulip.org/2014/programs/basis.html\n",
        "A = np.array([\n",
        "    [2.2222222222222223, 12.555555555555555, 7.947368421052632, 1.3888888888888888],\n",
        "    [26.166666666666668, 1, 18.4, 12.75],\n",
        "    [3.923076923076923, 4.9375, 1.2857142857142858, 10.923076923076923],\n",
        "    [26.6, 4.588235294117647, 16.22222222222222, 13.333333333333334] ])\n",
        "\n",
        "# Fortunately, numpy has a built-in function for qr factorization.\n",
        "(q, r) = np.linalg.qr(A, mode = \"reduced\") # Q would be M x K, and R would be K x N in \"reduced\" mode.\n",
        "print(\"QR Decomposition: \")\n",
        "print(f\"A: \\n{A}\\n\")\n",
        "print(f\"Q: \\n{q}\\n\")\n",
        "print(f\"R: \\n{r}\\n\")\n",
        "\n"
      ],
      "metadata": {
        "id": "oM0LDqHU4HPN",
        "colab": {
          "base_uri": "https://localhost:8080/"
        },
        "outputId": "85bd3acc-369d-408c-961e-8c77841df823"
      },
      "execution_count": 5,
      "outputs": [
        {
          "output_type": "stream",
          "name": "stdout",
          "text": [
            "QR Decomposition: \n",
            "A: \n",
            "[[ 2.22222222 12.55555556  7.94736842  1.38888889]\n",
            " [26.16666667  1.         18.4        12.75      ]\n",
            " [ 3.92307692  4.9375      1.28571429 10.92307692]\n",
            " [26.6         4.58823529 16.22222222 13.33333333]]\n",
            "\n",
            "Q: \n",
            "[[-0.05912627  0.92056623  0.37801267  0.07853869]\n",
            " [-0.69621179 -0.19700763  0.47494335 -0.50090513]\n",
            " [-0.1043806   0.33029916 -0.68826237 -0.63741828]\n",
            " [-0.70774142  0.06817824 -0.39727843  0.58019278]]\n",
            "\n",
            "R: \n",
            "[[-37.58434845  -5.20123829 -24.8955374  -19.53552975]\n",
            " [  0.          13.30488275   5.22181153   3.2836433 ]\n",
            " [  0.           0.           4.41351581  -6.23444328]\n",
            " [  0.           0.           0.          -5.50412396]]\n",
            "\n"
          ]
        }
      ]
    },
    {
      "cell_type": "markdown",
      "source": [
        "### 1.3.2 Least-squares Problems\n",
        "\n",
        "When a linear system is inconsistent, how can we get the best estimation?\n",
        "<br> <br>\n",
        "If the system <i>𝐀 </i>$\\mathbf{ x = b}$\n",
        "is not consistent, then we might want to find the best approximate solution. <br><br>\n",
        "Goal: Find a linear combination of the columns of <i>𝐀 </i> that minimizes the residual.\n",
        "<br>\n",
        "We do so by first projecting 𝐛 onto the columns of <i>𝐀 </i>, which gives us $\\hat{b}$. <br>\n",
        "Now we could find the apporximate solution $\\hat{x}$ using the normal equation.\n",
        "\n"
      ],
      "metadata": {
        "id": "MMMUudp24GmU"
      }
    },
    {
      "cell_type": "code",
      "source": [
        "A = np.array([\n",
        "    [1, 0, 0],\n",
        "    [0, 1, 0],\n",
        "    [0, 0, 1],\n",
        "    [1, 0, 0]\n",
        "])\n",
        "\n",
        "b = np.array([5, 2, 2, 3])\n",
        "# using built-in least squared function in numpy\n",
        "(x, residual, _, _) = np.linalg.lstsq(A, b, rcond=None)\n",
        "print(f\"x: {x}\")\n",
        "print(f\"residual: {residual}\")"
      ],
      "metadata": {
        "id": "9GuUDXjo7zOB",
        "colab": {
          "base_uri": "https://localhost:8080/"
        },
        "outputId": "eb158ec3-68ca-4333-cf26-cf4998682711"
      },
      "execution_count": 10,
      "outputs": [
        {
          "output_type": "stream",
          "name": "stdout",
          "text": [
            "x: [4. 2. 2.]\n",
            "residual: [2.]\n"
          ]
        }
      ]
    },
    {
      "cell_type": "markdown",
      "source": [
        "### Linear Regression 1.3.3\n",
        "\n",
        "The point is to fit a linear function over a set of data points, so that we can predict the results for certain inputs somewhat accurately."
      ],
      "metadata": {
        "id": "41iZzh937z39"
      }
    },
    {
      "cell_type": "code",
      "source": [
        "'''\n",
        "To demonstrate, let's generate an array of (x, y) pairs,\n",
        "where y = x + (random number between 0 and 0.25)\n",
        "'''\n",
        "x = np.empty(50)\n",
        "y = np.empty(50)\n",
        "\n",
        "for i in range(50):\n",
        "  x[i] = i\n",
        "  y[i] = i + np.random.uniform(0, 0.25)\n",
        "\n",
        "# function form is mx + c\n",
        "# A (c, m) = x, find the approximation of c and m\n",
        "A = np.empty([50, 2])\n",
        "for i in range(50):\n",
        "  A[i][0] = 1\n",
        "  A[i][1] = x[i]\n",
        "\n",
        "(b, residual, _, _) = np.linalg.lstsq(A, y, rcond=None)\n",
        "print(f\"Estimated: y = {b[1]}x + {b[0]}\")\n",
        "print(f\"A: \\n{A}\\n\")\n",
        "print(f\"y: \\n{y}\\n\")\n"
      ],
      "metadata": {
        "id": "Bnc8kJv6APMQ",
        "colab": {
          "base_uri": "https://localhost:8080/"
        },
        "outputId": "6e25cf98-155a-4c06-d935-b33b41cd44d0"
      },
      "execution_count": 25,
      "outputs": [
        {
          "output_type": "stream",
          "name": "stdout",
          "text": [
            "Estimated: y = 1.000362737260959x + 0.11170649104572278\n",
            "A: \n",
            "[[ 1.  0.]\n",
            " [ 1.  1.]\n",
            " [ 1.  2.]\n",
            " [ 1.  3.]\n",
            " [ 1.  4.]\n",
            " [ 1.  5.]\n",
            " [ 1.  6.]\n",
            " [ 1.  7.]\n",
            " [ 1.  8.]\n",
            " [ 1.  9.]\n",
            " [ 1. 10.]\n",
            " [ 1. 11.]\n",
            " [ 1. 12.]\n",
            " [ 1. 13.]\n",
            " [ 1. 14.]\n",
            " [ 1. 15.]\n",
            " [ 1. 16.]\n",
            " [ 1. 17.]\n",
            " [ 1. 18.]\n",
            " [ 1. 19.]\n",
            " [ 1. 20.]\n",
            " [ 1. 21.]\n",
            " [ 1. 22.]\n",
            " [ 1. 23.]\n",
            " [ 1. 24.]\n",
            " [ 1. 25.]\n",
            " [ 1. 26.]\n",
            " [ 1. 27.]\n",
            " [ 1. 28.]\n",
            " [ 1. 29.]\n",
            " [ 1. 30.]\n",
            " [ 1. 31.]\n",
            " [ 1. 32.]\n",
            " [ 1. 33.]\n",
            " [ 1. 34.]\n",
            " [ 1. 35.]\n",
            " [ 1. 36.]\n",
            " [ 1. 37.]\n",
            " [ 1. 38.]\n",
            " [ 1. 39.]\n",
            " [ 1. 40.]\n",
            " [ 1. 41.]\n",
            " [ 1. 42.]\n",
            " [ 1. 43.]\n",
            " [ 1. 44.]\n",
            " [ 1. 45.]\n",
            " [ 1. 46.]\n",
            " [ 1. 47.]\n",
            " [ 1. 48.]\n",
            " [ 1. 49.]]\n",
            "\n",
            "y: \n",
            "[ 0.07650222  1.03360941  2.12852004  3.16438319  4.21817588  5.21600181\n",
            "  6.04365121  7.14923635  8.01616519  9.03134593 10.09953431 11.05822086\n",
            " 12.15442852 13.06124412 14.24863741 15.1031499  16.10099411 17.22962688\n",
            " 18.24931158 19.00124462 20.22285796 21.1444963  22.01663275 23.16497307\n",
            " 24.01846261 25.06745412 26.11264432 27.0256641  28.19287764 29.15654569\n",
            " 30.22156514 31.0219037  32.03434915 33.14787301 34.0957295  35.17153387\n",
            " 36.22351421 37.04034487 38.03584553 39.09949363 40.19681466 41.11051402\n",
            " 42.22239015 43.120003   44.17651061 45.11600697 46.0655876  47.24963166\n",
            " 48.1239114  49.04956289]\n",
            "\n"
          ]
        }
      ]
    }
  ]
}