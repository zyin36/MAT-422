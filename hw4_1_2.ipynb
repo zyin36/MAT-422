{
  "nbformat": 4,
  "nbformat_minor": 0,
  "metadata": {
    "colab": {
      "provenance": [],
      "authorship_tag": "ABX9TyOB6O3F793DDTq7THbxf8iR",
      "include_colab_link": true
    },
    "kernelspec": {
      "name": "python3",
      "display_name": "Python 3"
    },
    "language_info": {
      "name": "python"
    }
  },
  "cells": [
    {
      "cell_type": "markdown",
      "metadata": {
        "id": "view-in-github",
        "colab_type": "text"
      },
      "source": [
        "<a href=\"https://colab.research.google.com/github/zyin36/MAT-422/blob/main/hw4_1_2.ipynb\" target=\"_parent\"><img src=\"https://colab.research.google.com/assets/colab-badge.svg\" alt=\"Open In Colab\"/></a>"
      ]
    },
    {
      "cell_type": "markdown",
      "source": [
        "## **Graph Modeling**"
      ],
      "metadata": {
        "id": "qXOqBf9ktLNE"
      }
    },
    {
      "cell_type": "code",
      "execution_count": null,
      "metadata": {
        "id": "5lkO63_-tFin"
      },
      "outputs": [],
      "source": [
        "import networkx as nx\n",
        "import matplotlib.pyplot as plt\n",
        "\n",
        "g = nx.Graph()\n",
        "g.add_nodes_from(nodes)\n",
        "g.add_edges_from(edge_list)\n",
        "\n",
        "laplacian = nx.laplacian_matrix(g)  # laplacian matrix\n"
      ]
    },
    {
      "cell_type": "markdown",
      "source": [
        "$cut(V_1, V_2,...,V_n) = $ Number of edges being cut.\n",
        "<br/><br/>\n",
        "(Bi-)Partition vector: $𝐩$:\n",
        "  - $p_i = 1$ if $v_i ∈ V_1, p_i = -1$ if $v_i ∈ V_2$"
      ],
      "metadata": {
        "id": "A_ZpU_DG8sH5"
      }
    }
  ]
}