{
  "nbformat": 4,
  "nbformat_minor": 0,
  "metadata": {
    "colab": {
      "provenance": [],
      "authorship_tag": "ABX9TyNULeNx6zSnoyi0bPEK+jlY",
      "include_colab_link": true
    },
    "kernelspec": {
      "name": "python3",
      "display_name": "Python 3"
    },
    "language_info": {
      "name": "python"
    }
  },
  "cells": [
    {
      "cell_type": "markdown",
      "metadata": {
        "id": "view-in-github",
        "colab_type": "text"
      },
      "source": [
        "<a href=\"https://colab.research.google.com/github/zyin36/MAT-422/blob/main/hw2_2.ipynb\" target=\"_parent\"><img src=\"https://colab.research.google.com/assets/colab-badge.svg\" alt=\"Open In Colab\"/></a>"
      ]
    },
    {
      "cell_type": "markdown",
      "source": [
        "**Definitions**\n",
        "- Sample space: Denoted $S$. The set of all possible outcomes in an experiment\n",
        "- Event: A subset of the sample space $S$. A simple event consists of exactly one outcome, and a complex event consists of $>1$ outcomes.\n",
        "- Probability Distribution: A function that outputs the probability of a certain event happening. Denoted $P(A)$ where $A$ is an event.\n",
        "\n",
        "**Formulas**\n",
        "$P(A ∪ B) = P(A)+P(B) - P(A ∩ B)$\n",
        "\n",
        "$P(A|B) = \\frac{P(A∩B)}{P(B)}$\n",
        "\n",
        "$P(A∩B) = P(A|B)·P(B)$\n",
        "\n",
        "\n",
        "\n"
      ],
      "metadata": {
        "id": "rt00El1M3Ipc"
      }
    },
    {
      "cell_type": "code",
      "source": [
        "from math import factorial\n",
        "import scipy.integrate as integrate\n",
        "\n",
        "# p_a_b: P(A | B)\n",
        "# p_a: P(A)\n",
        "# p_b: P(B)\n",
        "# returns P(B|A)\n",
        "def bayes(p_a_b, p_b, p_a):\n",
        "  return (p_a_b * p_b) / p_a\n",
        "\n",
        "def binomial_pdf(x, n, p):\n",
        "  return factorial(n)/(factorial(x)*factorial(n-x)) * p**x * (1-p)**(n-x)\n",
        "\n",
        "def expected_val_continuous(pdf, a=-float('inf'), b=float('inf')):\n",
        "  f = lambda x: pdf(x) * x\n",
        "  return integrate.quad(f, a, b)\n",
        "\n",
        "def expected_val_discrete(pdf, possible_vals):\n",
        "  return sum([pdf(x) * x for x in possible_vals])\n",
        "\n"
      ],
      "metadata": {
        "id": "EOlVFcDDaH-2"
      },
      "execution_count": null,
      "outputs": []
    }
  ]
}