{
  "nbformat": 4,
  "nbformat_minor": 0,
  "metadata": {
    "colab": {
      "provenance": [],
      "authorship_tag": "ABX9TyMyiJlpybJWKJtwDGF/PwR2",
      "include_colab_link": true
    },
    "kernelspec": {
      "name": "python3",
      "display_name": "Python 3"
    },
    "language_info": {
      "name": "python"
    }
  },
  "cells": [
    {
      "cell_type": "markdown",
      "metadata": {
        "id": "view-in-github",
        "colab_type": "text"
      },
      "source": [
        "<a href=\"https://colab.research.google.com/github/zyin36/MAT-422/blob/main/hw3_7.ipynb\" target=\"_parent\"><img src=\"https://colab.research.google.com/assets/colab-badge.svg\" alt=\"Open In Colab\"/></a>"
      ]
    },
    {
      "cell_type": "markdown",
      "source": [
        "## **Neural Networks**\n",
        "\n",
        "### **Mathematical Formulation**\n",
        "Simplest Example (See Ch.3 notes): <br/>\n",
        "  - Given inputs $x_1, x_2$, we have nodes $a_1, a_2$ whose values update based on $x_1$ and $x_2$ (input layer). Then the edges between $a_1, a_2$ and the activation function $\\sigma(z)$ have weights $w_1, w_2$. We also have a bias term $b$ in $\\sigma(z)$.\n",
        "  Our forecast output, $\\hat{y}$, is computed by $\\sigma(z) = \\sigma(w_1a_1+w_2a_2 + b)$\n",
        "\n",
        "### **Activation functions**\n",
        "\n",
        "\n",
        "```\n",
        "# step function. could be used for classification problems\n",
        "def step(x):\n",
        "  if (x < 0)\n",
        "    return 0\n",
        "  else    # x >= 0\n",
        "    return 1\n",
        "\n",
        "\n",
        "# Rectified Linear Units (ReLU)\n",
        "def relu(x):\n",
        "  return max(0, x)  \n",
        "\n",
        "# Logistic (Sigmoid). Could be used in the output layer for predicting probability.\n",
        "def logistic(x):\n",
        "  return 1/(1+e^(-x))\n",
        "\n",
        "# Softmax: Converts an vector of k values into a vector of probabilities.\n",
        "def softmax(arr):\n",
        "  denom = sum([e^(z) for z in arr])\n",
        "  return [e^(z) / denom for z in arr]\n",
        "\n",
        "```\n",
        "\n",
        "\n",
        "### **Cost function**\n",
        "Suppose we have N sets of actual results $y^{(1)},...,y^{(N)}$ and the corresponding forecast output $\\hat{y}^{(1)},...,\\hat{y}^{(N)}$. Let $y^{(i)}_k$ denote the $k^{th}$ node of the $i^{th}$ set. <br/>\n",
        "We define the cost function as\n",
        "\n",
        "$J = \\frac{1}{2} \\displaystyle\\sum_{n=1}^{N}\\sum_{k=1}^{K} (\\hat{y}^{(n)}_k - y^{(n)}_k)^2$.\n",
        "\n",
        "We use the entropy function for classification problems where we have only one output.\n",
        "\n",
        "### **Backpropagation**\n",
        "Goal: Fine-tune the weights based on the error rate (i.e. loss).\n"
      ],
      "metadata": {
        "id": "zmzXnHzLm95f"
      }
    },
    {
      "cell_type": "code",
      "execution_count": null,
      "metadata": {
        "id": "RLaq1t2-l3hM"
      },
      "outputs": [],
      "source": []
    }
  ]
}