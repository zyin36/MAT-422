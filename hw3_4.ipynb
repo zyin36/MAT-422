{
  "nbformat": 4,
  "nbformat_minor": 0,
  "metadata": {
    "colab": {
      "provenance": [],
      "authorship_tag": "ABX9TyOIYct5Nn4gUmZi1uXU5oDG",
      "include_colab_link": true
    },
    "kernelspec": {
      "name": "python3",
      "display_name": "Python 3"
    },
    "language_info": {
      "name": "python"
    }
  },
  "cells": [
    {
      "cell_type": "markdown",
      "metadata": {
        "id": "view-in-github",
        "colab_type": "text"
      },
      "source": [
        "<a href=\"https://colab.research.google.com/github/zyin36/MAT-422/blob/main/hw3_4.ipynb\" target=\"_parent\"><img src=\"https://colab.research.google.com/assets/colab-badge.svg\" alt=\"Open In Colab\"/></a>"
      ]
    },
    {
      "cell_type": "markdown",
      "source": [
        "Given data points in the form of $(𝐱_i, y_i)$, where $y$ is a binary label ($y_i ∈ {0,1}$), We could use logistic regression to model $y$.\n",
        "\n",
        "For example, we could model the probability of a patient having lung cancer based on certain features such as: how much do they smoke per day on average, the average air quality in the patient's area, age, etc.  "
      ],
      "metadata": {
        "id": "5QTgVgiqy1eN"
      }
    },
    {
      "cell_type": "code",
      "execution_count": 3,
      "metadata": {
        "colab": {
          "base_uri": "https://localhost:8080/"
        },
        "id": "Ux6-Ww4Pyf6i",
        "outputId": "f494aa7d-0331-4544-fc02-2973fbb3b05f"
      },
      "outputs": [
        {
          "output_type": "stream",
          "name": "stdout",
          "text": [
            "Accuracy: 98.50%\n",
            "Classification Report:\n",
            "               precision    recall  f1-score   support\n",
            "\n",
            "           0       0.98      1.00      0.99       130\n",
            "           1       1.00      0.96      0.98        70\n",
            "\n",
            "    accuracy                           0.98       200\n",
            "   macro avg       0.99      0.98      0.98       200\n",
            "weighted avg       0.99      0.98      0.98       200\n",
            "\n"
          ]
        }
      ],
      "source": [
        "import numpy as np\n",
        "import pandas as pd\n",
        "from sklearn.model_selection import train_test_split\n",
        "from sklearn.linear_model import LogisticRegression\n",
        "from sklearn.metrics import accuracy_score, confusion_matrix, classification_report\n",
        "\n",
        "# Simulate dataset\n",
        "data_size = 1000\n",
        "\n",
        "# Generate synthetic data\n",
        "age = np.random.randint(30, 80, data_size)                      # Age between 30 and 80\n",
        "smoke_per_day = np.random.randint(0, 20, data_size)             # Cigarettes smoked per day\n",
        "air_quality = np.random.uniform(0.5, 5.0, data_size)            # Air quality index (0.5 to 5.0)\n",
        "has_lung_cancer = (0.05 * age + 0.1 * smoke_per_day + 0.3 * air_quality > 5).astype(int)  # Binary label\n",
        "\n",
        "# Create DataFrame\n",
        "df = pd.DataFrame({\n",
        "    'age': age,\n",
        "    'smoke_per_day': smoke_per_day,\n",
        "    'air_quality': air_quality,\n",
        "    'has_lung_cancer': has_lung_cancer\n",
        "})\n",
        "\n",
        "# Prepare features (X) and label (y)\n",
        "X = df[['age', 'smoke_per_day', 'air_quality']]\n",
        "y = df['has_lung_cancer']\n",
        "\n",
        "# Split data into train and test sets\n",
        "X_train, X_test, y_train, y_test = train_test_split(X, y, test_size=0.2, random_state=0)\n",
        "\n",
        "# Initialize and train logistic regression model\n",
        "model = LogisticRegression()\n",
        "model.fit(X_train, y_train)\n",
        "\n",
        "# Make predictions on the test set\n",
        "y_pred = model.predict(X_test)\n",
        "\n",
        "# Evaluate the model\n",
        "accuracy = accuracy_score(y_test, y_pred)\n",
        "class_report = classification_report(y_test, y_pred)\n",
        "\n",
        "# Display results\n",
        "print(f\"Accuracy: {accuracy * 100:.2f}%\")\n",
        "print(\"Classification Report:\\n\", class_report)"
      ]
    }
  ]
}